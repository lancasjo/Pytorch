{
  "nbformat": 4,
  "nbformat_minor": 0,
  "metadata": {
    "colab": {
      "provenance": [],
      "include_colab_link": true
    },
    "kernelspec": {
      "name": "python3",
      "display_name": "Python 3"
    },
    "language_info": {
      "name": "python"
    },
    "accelerator": "GPU",
    "gpuClass": "standard"
  },
  "cells": [
    {
      "cell_type": "markdown",
      "metadata": {
        "id": "view-in-github",
        "colab_type": "text"
      },
      "source": [
        "<a href=\"https://colab.research.google.com/github/lancasjo/Pytorch/blob/main/PyTorch.ipynb\" target=\"_parent\"><img src=\"https://colab.research.google.com/assets/colab-badge.svg\" alt=\"Open In Colab\"/></a>"
      ]
    },
    {
      "cell_type": "markdown",
      "source": [
        "# **PyTorch Basics**\n",
        "\n",
        "***DO NOT EDIT THIS SCRIPT***\n",
        "\n",
        "***CREATE A COPY AND EDIT IN YOUR PERSONAL CODE FOLDER***"
      ],
      "metadata": {
        "id": "FzHBxmXrMjfx"
      }
    },
    {
      "cell_type": "markdown",
      "source": [
        "PyTorch is an open-source machine learning library for Python, based on Torch, used for applications such deep learning and computer vision. It is known for its ability to perform dynamic computation graphs and its use of tensors, similar to numpy arrays, which make it easy to perform mathematical operations. PyTorch also provides support for CUDA, which allows for efficient parallel processing on GPUs."
      ],
      "metadata": {
        "id": "yfhy94-iNBa8"
      }
    },
    {
      "cell_type": "code",
      "source": [
        "import torch\n",
        "import numpy as np"
      ],
      "metadata": {
        "id": "nVLTExuLNopP"
      },
      "execution_count": null,
      "outputs": []
    },
    {
      "cell_type": "markdown",
      "source": [
        "Tensors: PyTorch uses tensors, similar to numpy arrays, to perform mathematical operations. You can create a tensor by passing a list or array to the torch.Tensor() function. For example:"
      ],
      "metadata": {
        "id": "k1yikQHwNix0"
      }
    },
    {
      "cell_type": "code",
      "source": [
        "# Create a 1-D tensor\n",
        "tensor_1d = torch.Tensor([1, 2, 3])\n",
        "print(f'Tensor 1d:\\n{tensor_1d}\\n')\n",
        "\n",
        "# Create a 2-D tensor\n",
        "tensor_2d = torch.Tensor([[1, 2, 3], [4, 5, 6]])\n",
        "print(f'Tensor 2d:\\n{tensor_2d}\\n')\n",
        "\n",
        "# Create a tensor from a numpy array\n",
        "numpy_3d = np.random.randint(0, 100, (2, 3, 4))\n",
        "tensor_3d = torch.Tensor(numpy_3d)\n",
        "print(f'Tensor 3d:\\n{tensor_3d}\\n')"
      ],
      "metadata": {
        "id": "g8cqihtrMORg",
        "colab": {
          "base_uri": "https://localhost:8080/"
        },
        "outputId": "28141e48-fa20-4d36-83e3-87ba0f0ddd1e"
      },
      "execution_count": null,
      "outputs": [
        {
          "output_type": "stream",
          "name": "stdout",
          "text": [
            "Tensor 1d:\n",
            "tensor([1., 2., 3.])\n",
            "\n",
            "Tensor 2d:\n",
            "tensor([[1., 2., 3.],\n",
            "        [4., 5., 6.]])\n",
            "\n",
            "Tensor 3d:\n",
            "tensor([[[39.,  9., 82., 35.],\n",
            "         [20., 58., 82.,  8.],\n",
            "         [92., 71., 26., 33.]],\n",
            "\n",
            "        [[37., 97.,  4., 76.],\n",
            "         [47., 14., 20., 17.],\n",
            "         [74.,  9., 24., 94.]]])\n",
            "\n"
          ]
        }
      ]
    },
    {
      "cell_type": "markdown",
      "source": [
        "Shape: Printing the shape of a tensor can be useful in a variety of situations, such as: \n",
        "\n",
        "1. Debugging: When working with large and complex tensors, it can be useful to print the shape to ensure that the tensor has the expected dimensions. This can help identify errors, such as transposed matrices or missing dimensions.\n",
        "2. Understanding data: The shape of a tensor can provide information about the structure of the data, such as the number of samples and features. This can be useful for understanding the data and making sure it is in the correct format for a specific task.\n",
        "3. Model design: The shape of the tensors in a model can be used to ensure that the model is properly designed and that the dimensions match between the layers.\n",
        "\n",
        "Here is an example:"
      ],
      "metadata": {
        "id": "b8P694ZZQInm"
      }
    },
    {
      "cell_type": "code",
      "source": [
        "# Print shape of 1-D tensor\n",
        "shape_1d = tensor_1d.shape\n",
        "print(f'Shape 1d:\\n{shape_1d}\\n')\n",
        "\n",
        "# Print shape of 2-D tensor\n",
        "shape_2d = tensor_2d.shape\n",
        "print(f'Shape 2d:\\n{shape_2d}\\n')\n",
        "\n",
        "# Print shape of 3-D tensor\n",
        "shape_3d = tensor_3d.shape\n",
        "print(f'Shape 3d:\\n{shape_3d}\\n')"
      ],
      "metadata": {
        "id": "GLTqAfHCQYJN",
        "colab": {
          "base_uri": "https://localhost:8080/"
        },
        "outputId": "a93f7033-167b-45a5-c65e-f4efa0149982"
      },
      "execution_count": null,
      "outputs": [
        {
          "output_type": "stream",
          "name": "stdout",
          "text": [
            "Shape 1d:\n",
            "torch.Size([3])\n",
            "\n",
            "Shape 2d:\n",
            "torch.Size([2, 3])\n",
            "\n",
            "Shape 3d:\n",
            "torch.Size([2, 3, 4])\n",
            "\n"
          ]
        }
      ]
    },
    {
      "cell_type": "markdown",
      "source": [
        "Operations: You can perform various mathematical operations on tensors, such as addition, multiplication, and matrix multiplication. Here is an example:"
      ],
      "metadata": {
        "id": "Z9X4Yv1VP8aT"
      }
    },
    {
      "cell_type": "code",
      "source": [
        "# Addition\n",
        "result = tensor_1d + tensor_1d\n",
        "print(f'tensor_1d + tensor_1d:\\n{result}\\n')\n",
        "\n",
        "# Multiplication\n",
        "result = tensor_1d * tensor_1d\n",
        "print(f'tensor_1d * tensor_1d:\\n{result}\\n')\n",
        "\n",
        "# Matrix multiplication\n",
        "result = torch.matmul(tensor_2d, tensor_2d.T)\n",
        "print(f'tensor_2d @ tensor_2d.T:\\n{result}\\n')\n",
        "print(f'tensor_2d shape : {tensor_2d.shape}\\ntensor_2d.T shape : {tensor_2d.T.shape}\\nresult shape : {result.shape}')"
      ],
      "metadata": {
        "id": "lrAwi6FeOduc",
        "colab": {
          "base_uri": "https://localhost:8080/"
        },
        "outputId": "6e2a3b12-9c94-404e-fa94-bce8f286234a"
      },
      "execution_count": null,
      "outputs": [
        {
          "output_type": "stream",
          "name": "stdout",
          "text": [
            "tensor_1d + tensor_1d:\n",
            "tensor([2., 4., 6.])\n",
            "\n",
            "tensor_1d * tensor_1d:\n",
            "tensor([1., 4., 9.])\n",
            "\n",
            "tensor_2d @ tensor_2d.T:\n",
            "tensor([[14., 32.],\n",
            "        [32., 77.]])\n",
            "\n",
            "tensor_2d shape : torch.Size([2, 3])\n",
            "tensor_2d.T shape : torch.Size([3, 2])\n",
            "result shape : torch.Size([2, 2])\n"
          ]
        }
      ]
    },
    {
      "cell_type": "markdown",
      "source": [
        "Cuda: PyTorch makes it easy to compute operations using the GPU. This helps with speed, as GPUs are designed to perform parallel computations, which can lead to a significant speedup in the training of machine learning models. It also helps with memor and power. Here is an example comparing the time it takes to perform an operation on the cpu and the time it takes to do it on the GPU:"
      ],
      "metadata": {
        "id": "f_JLEnFWS507"
      }
    },
    {
      "cell_type": "code",
      "source": [
        "import time\n",
        "\n",
        "#Check if you have cuda available\n",
        "if torch.cuda.is_available():\n",
        "  print('You have the GPU available!\\n')\n",
        "  device = 'cuda:0'\n",
        "else:\n",
        "  print(\"Could not find GPU! If you want to enable GPU, go to Edit > Notebook Settings > Hardware Accelerator and select GPU.\\n\\nIt is possible that you are out of colab allowed GPU units\")\n",
        "  device = 'cpu'\n",
        "\n",
        "if torch.cuda.is_available():\n",
        "\n",
        "  # Create a large tensor, setting the tensor be on the cpu\n",
        "  x = torch.rand(10000, 10000, device='cpu')\n",
        "\n",
        "  # Perform a computation on the CPU\n",
        "  start_time = time.time()\n",
        "  y = x.matmul(x)\n",
        "  print(f'CPU computation time: {time.time() - start_time}\\n')\n",
        "\n",
        "  # Move the tensor to the GPU\n",
        "  x = x.to(\"cuda\")\n",
        "\n",
        "  # Perform the same computation on the GPU\n",
        "  start_time = time.time()\n",
        "  y = x.matmul(x)\n",
        "  print(f'GPU computation 1st time: {time.time() - start_time}\\n')\n",
        "\n",
        "  # After starting to use the GPU, it gets much faster after 'warming up'\n",
        "  start_time = time.time()\n",
        "  y = x.matmul(x)\n",
        "  print(f'GPU computation 2nd time: {time.time() - start_time}\\n')"
      ],
      "metadata": {
        "id": "eM_gOwkNTmqv",
        "colab": {
          "base_uri": "https://localhost:8080/"
        },
        "outputId": "dc3e18b5-9735-42ef-dcee-f57388884e87"
      },
      "execution_count": null,
      "outputs": [
        {
          "output_type": "stream",
          "name": "stdout",
          "text": [
            "You have the GPU available!\n",
            "\n",
            "CPU computation time: 15.430630683898926\n",
            "\n",
            "GPU computation 1st time: 0.00030159950256347656\n",
            "\n",
            "GPU computation 2nd time: 0.001135110855102539\n",
            "\n"
          ]
        }
      ]
    },
    {
      "cell_type": "markdown",
      "source": [
        "Gradients: PyTorch also allows you to calculate gradients, which is useful for training machine learning models. You can enable gradients on a tensor by setting the requires_grad attribute to True. Here is an example:"
      ],
      "metadata": {
        "id": "1FxALi7uXISD"
      }
    },
    {
      "cell_type": "code",
      "source": [
        "# Create a tensor with requires_grad set to True\n",
        "x = torch.tensor([3.0], requires_grad=True)\n",
        "\n",
        "# Perform a computation\n",
        "y = x ** 2\n",
        "\n",
        "# Compute the gradients\n",
        "y.backward()\n",
        "\n",
        "# Print the gradients\n",
        "gradient = x.grad\n",
        "print(f'Gradient of y=x^2 at x=3:\\n{gradient}')"
      ],
      "metadata": {
        "id": "uc25nQ4kUCEE",
        "colab": {
          "base_uri": "https://localhost:8080/"
        },
        "outputId": "e43f1c7a-6700-4b67-86d0-ad1340368ef7"
      },
      "execution_count": null,
      "outputs": [
        {
          "output_type": "stream",
          "name": "stdout",
          "text": [
            "Gradient of y=x^2 at x=3:\n",
            "tensor([6.])\n"
          ]
        }
      ]
    },
    {
      "cell_type": "markdown",
      "source": [
        "Using what you now learned, try to solve this problem:\n",
        "\n",
        "##Problem\n",
        "\n",
        "You are given a 3-dimensional tensor called data of shape (10, 3, 2) representing 10 samples, each with 3 features and 2 values. Your task is to compute the mean and standard deviation of the values for each feature.\n",
        "\n",
        "##What you should do\n",
        "\n",
        "1. Compute the mean of the values for each feature using PyTorch functions.\n",
        "2. Compute the standard deviation of the values for each feature using PyTorch functions.\n",
        "3. Print the mean and standard deviation of the values for each feature.\n",
        "\n",
        "##Note\n",
        "\n",
        "You should research what torch functions can help you find the mean and standard deviation. PyTorch has great documentation!"
      ],
      "metadata": {
        "id": "_D9jk22_Yp6w"
      }
    },
    {
      "cell_type": "code",
      "source": [
        "# Create a 3-dimensional tensor of data\n",
        "data = torch.randn((10, 3, 2), device=device)\n",
        "\n",
        "# Compute the mean of the values for each feature\n",
        "\n",
        "\n",
        "# Compute the standard deviation of the values for each feature\n",
        "\n",
        "\n",
        "# Print the mean and standard deviation of the values for each feature\n",
        "\n"
      ],
      "metadata": {
        "id": "yRn91Sp7Wce8"
      },
      "execution_count": null,
      "outputs": []
    }
  ]
}